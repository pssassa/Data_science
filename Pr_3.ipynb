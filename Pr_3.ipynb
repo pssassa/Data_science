{
 "cells": [
  {
   "cell_type": "code",
   "execution_count": 18,
   "id": "6dbaec11-d74d-475e-81a1-6d5875a4fd36",
   "metadata": {},
   "outputs": [],
   "source": [
    "import numpy as np\n",
    "import matplotlib.pyplot as plt\n",
    "import seaborn as sns\n",
    "from scipy import stats\n",
    "from scipy.stats import anderson, kstest, shapiro, norm, uniform\n",
    "from statsmodels.stats.diagnostic import lilliefors"
   ]
  },
  {
   "cell_type": "markdown",
   "id": "75df21f0-6dc8-4ca1-9151-3ed695ccfd9e",
   "metadata": {},
   "source": [
    "## Задание 1"
   ]
  },
  {
   "cell_type": "markdown",
   "id": "6194c35a-e6f3-4823-b980-1b3b09784835",
   "metadata": {},
   "source": [
    "1. Сгенерируйте 3 пары выборок заданного объема из разных законов распределения (два нормальных распределения, нормальное и отличное от нормального, два отличных от нормального распределения). Объем и законы распределения выбрать самостоятельно."
   ]
  },
  {
   "cell_type": "code",
   "execution_count": 2,
   "id": "87feb736-dd86-415d-8304-e041efd1d535",
   "metadata": {},
   "outputs": [],
   "source": [
    "size = 100\n",
    "alpha = 0.05\n",
    "\n",
    "#Генерация выборок\n",
    "#Два нормальных распределения\n",
    "normal_1 = np.random.normal(10, 2, size=size)\n",
    "normal_2 = np.random.normal(15, 2, size=size)\n",
    "\n",
    "#Нормально и отличное от нормального\n",
    "normal_3 = np.random.normal(20, 2, size=size)\n",
    "expo = stats.expon.rvs(scale=1, size=size)\n",
    "\n",
    "#Два отличных от нормального\n",
    "unif = stats.uniform.rvs(scale=1, size=size)\n",
    "logg = stats.lognorm.rvs(s=0.99,scale=1, size=size)"
   ]
  },
  {
   "cell_type": "markdown",
   "id": "e6eb46d7-7393-4339-8eab-0a63a80833eb",
   "metadata": {},
   "source": [
    "2. Выдвинуть и проверить на заданном уровне значимости 𝛼 для каждой пары выборок гипотезы:\n",
    "- о равенстве двух дисперсий 𝐻: $𝜎_1 = 𝜎_2$\n",
    "- о равенстве двух выборочных средних 𝐻: $𝑚_1 = 𝑚_2$\n",
    "\n",
    "Выбор критериев должен быть обусловлен видом распределения исходных выборок (проверить факт нормальности распределения выборок с \n",
    "помощью одного из критериев согласия, например Шапиро-Уилка) и равенством дисперсий (для выбора критерия для проверки гипотез о математических ожиданиях)."
   ]
  },
  {
   "cell_type": "code",
   "execution_count": 3,
   "id": "42cf295d-d28a-430d-b048-96f1e1e6dd45",
   "metadata": {},
   "outputs": [],
   "source": [
    "def check_normal_dist(normal):\n",
    "    _, p_value = stats.shapiro(normal)\n",
    "    if p_value > alpha:\n",
    "        print('Гипотеза о нормальности принимается')\n",
    "    else:\n",
    "        print('Гипотеза о нормальности отклоняется')"
   ]
  },
  {
   "cell_type": "code",
   "execution_count": 4,
   "id": "86cd2479-e4a6-43e8-8e21-0da175e50d3e",
   "metadata": {},
   "outputs": [],
   "source": [
    "def F_test(s1, s2):\n",
    "    # Проверка равенства дисперсий по F-критерию        \n",
    "    var_1 = np.var(s1, ddof=1)\n",
    "    var_2 = np.var(s2, ddof=1)\n",
    "\n",
    "    print(f'Оценка дисперсии 1: {var_1:.4f}')\n",
    "    print(f'Оценка дисперсии 2: {var_2:.4f}')\n",
    "\n",
    "    if var_1 > var_2:\n",
    "        F_score = var_1 / var_2\n",
    "    else:\n",
    "        F_score = var_2 / var_1\n",
    "    print(f'Значение статистики: {F_score:.4f}')\n",
    "\n",
    "    pvalue = 1 - stats.f.cdf(F_score, size-1, size-1)\n",
    "    print(f'Значение p-value: {pvalue:.4f}')\n",
    "\n",
    "    if pvalue > alpha:\n",
    "        print(f'Гипотеза о равенстве дисперсий по F-критерию принимается')\n",
    "    else:\n",
    "        print(f'Гипотеза о равенстве дисперсий по F-критерию отклоняется')"
   ]
  },
  {
   "cell_type": "code",
   "execution_count": 5,
   "id": "4960944e-a01c-4314-9610-c5e66b7932a7",
   "metadata": {},
   "outputs": [],
   "source": [
    "def T_test(s1, s2, equal_var=True):\n",
    "    _, p_value_ttest = stats.ttest_ind(s1, s2, equal_var=equal_var)\n",
    "    print(f'Оценка выборочных средних: {p_value_ttest:.4f}')\n",
    "\n",
    "    if p_value_ttest > alpha:\n",
    "        print('Гипотеза о равенстве выборочных средних по t-критерию принимается')\n",
    "    else:\n",
    "        print('Гипотеза о равенстве выборочных средних по t-критерию отклоняется')"
   ]
  },
  {
   "cell_type": "code",
   "execution_count": 6,
   "id": "e8564cc2-4068-49d2-b841-5922f6ebe72b",
   "metadata": {},
   "outputs": [],
   "source": [
    "def MN_test(s1, s2):\n",
    "    _, p_value = stats.mannwhitneyu(s1, s2)\n",
    "    print(f\"Оценка выборочных средних: {p_value:.4f}\")\n",
    "\n",
    "    if p_value > alpha:\n",
    "        print('Гипотеза о равенстве выборочных средних по критерию Манна-Уитни принимается')\n",
    "    else:\n",
    "        print('Гипотеза о равенстве выборочных средних по критерию Манна-Уитни отклоняется')"
   ]
  },
  {
   "cell_type": "code",
   "execution_count": 7,
   "id": "60e482fc-cc7a-4828-8cf8-3d12590b3399",
   "metadata": {},
   "outputs": [],
   "source": [
    "def flinger_test(s1, s2):\n",
    "    _, p_value = stats.fligner(s1, s2)\n",
    "    if p_value > alpha:\n",
    "        print('Гипотеза о равенстве дисперсий по критерию Флигнера принимается')\n",
    "    else:\n",
    "        print('Гипотеза о равенстве дисперсий по критерию Флигнера отклоняется')"
   ]
  },
  {
   "cell_type": "code",
   "execution_count": 8,
   "id": "a65114c3-be65-43d9-9125-b67070b78f36",
   "metadata": {},
   "outputs": [
    {
     "name": "stdout",
     "output_type": "stream",
     "text": [
      "Гипотеза о нормальности принимается\n",
      "Гипотеза о нормальности принимается\n"
     ]
    }
   ],
   "source": [
    "check_normal_dist(normal_1)\n",
    "check_normal_dist(normal_2)"
   ]
  },
  {
   "cell_type": "code",
   "execution_count": 9,
   "id": "8e925777-2dac-42c6-a720-32ed69a5c27a",
   "metadata": {},
   "outputs": [
    {
     "name": "stdout",
     "output_type": "stream",
     "text": [
      "Оценка дисперсии 1: 3.2859\n",
      "Оценка дисперсии 2: 4.2200\n",
      "Значение статистики: 1.2843\n",
      "Значение p-value: 0.1075\n",
      "Гипотеза о равенстве дисперсий по F-критерию принимается\n"
     ]
    }
   ],
   "source": [
    "F_test(normal_1, normal_2)"
   ]
  },
  {
   "cell_type": "code",
   "execution_count": 10,
   "id": "bd1dac3a-e710-415e-a1f5-f25eba757b39",
   "metadata": {},
   "outputs": [
    {
     "name": "stdout",
     "output_type": "stream",
     "text": [
      "Оценка выборочных средних: 0.0000\n",
      "Гипотеза о равенстве выборочных средних по t-критерию отклоняется\n"
     ]
    }
   ],
   "source": [
    "T_test(normal_1, normal_2, equal_var=True)"
   ]
  },
  {
   "cell_type": "code",
   "execution_count": 11,
   "id": "08904b9f-aae1-4629-a6e7-91eac1ebcaba",
   "metadata": {},
   "outputs": [
    {
     "name": "stdout",
     "output_type": "stream",
     "text": [
      "Гипотеза о нормальности принимается\n",
      "Гипотеза о нормальности отклоняется\n"
     ]
    }
   ],
   "source": [
    "check_normal_dist(normal_3)\n",
    "check_normal_dist(expo)"
   ]
  },
  {
   "cell_type": "code",
   "execution_count": 12,
   "id": "a1cc7c11-d8a5-4d86-a0e7-c10ab222b5ca",
   "metadata": {},
   "outputs": [
    {
     "name": "stdout",
     "output_type": "stream",
     "text": [
      "Оценка дисперсии 1: 3.7681\n",
      "Оценка дисперсии 2: 0.9868\n",
      "Значение статистики: 3.8185\n",
      "Значение p-value: 0.0000\n",
      "Гипотеза о равенстве дисперсий по F-критерию отклоняется\n"
     ]
    }
   ],
   "source": [
    "F_test(normal_3, expo)"
   ]
  },
  {
   "cell_type": "code",
   "execution_count": 13,
   "id": "95888200-1947-494e-983b-6accd0632827",
   "metadata": {},
   "outputs": [
    {
     "name": "stdout",
     "output_type": "stream",
     "text": [
      "Оценка выборочных средних: 0.0000\n",
      "Гипотеза о равенстве выборочных средних по t-критерию отклоняется\n"
     ]
    }
   ],
   "source": [
    "T_test(normal_3, expo, equal_var=True)"
   ]
  },
  {
   "cell_type": "code",
   "execution_count": 14,
   "id": "36ddc697-cba1-4c00-bac7-c7b06b0f143e",
   "metadata": {},
   "outputs": [
    {
     "name": "stdout",
     "output_type": "stream",
     "text": [
      "Гипотеза о нормальности отклоняется\n",
      "Гипотеза о нормальности отклоняется\n"
     ]
    }
   ],
   "source": [
    "check_normal_dist(unif)\n",
    "check_normal_dist(logg)"
   ]
  },
  {
   "cell_type": "code",
   "execution_count": 15,
   "id": "4d3943e5-9afa-40fc-8f2c-710098beb371",
   "metadata": {},
   "outputs": [
    {
     "name": "stdout",
     "output_type": "stream",
     "text": [
      "Оценка дисперсии 1: 0.0845\n",
      "Оценка дисперсии 2: 6.9819\n",
      "Значение статистики: 82.6173\n",
      "Значение p-value: 0.0000\n",
      "Гипотеза о равенстве дисперсий по F-критерию отклоняется\n"
     ]
    }
   ],
   "source": [
    "F_test(unif, logg)"
   ]
  },
  {
   "cell_type": "code",
   "execution_count": 16,
   "id": "2ad002e8-b606-4b8a-8bff-3c875b867d99",
   "metadata": {},
   "outputs": [
    {
     "name": "stdout",
     "output_type": "stream",
     "text": [
      "Оценка выборочных средних: 0.0000\n",
      "Гипотеза о равенстве выборочных средних по t-критерию отклоняется\n"
     ]
    }
   ],
   "source": [
    "T_test(unif, logg, equal_var=True)"
   ]
  },
  {
   "cell_type": "markdown",
   "id": "97944c21-8bcf-4824-88ef-fb3c2d7052a8",
   "metadata": {},
   "source": [
    "## Задание 2"
   ]
  },
  {
   "cell_type": "markdown",
   "id": "0e515a19-b389-434c-bb3a-1cca0f0ba0bb",
   "metadata": {},
   "source": [
    "1. 1000 раз сгенерируйте выборки из нормального и любого отличного от нормального закона распределения для различных N. \n",
    "2. Примените критерии: Anderson-Darling test, Lilliefors test, Kolmogorov-Smirnov test и Shapiro-Wilk test. \n",
    "3. Сравните их мощности."
   ]
  },
  {
   "cell_type": "code",
   "execution_count": 25,
   "id": "88705724-3476-44ae-8e32-f6dad018b93f",
   "metadata": {},
   "outputs": [],
   "source": [
    "# Параметры для эксперимента\n",
    "N_values = [10, 30, 50, 100, 200]  # различные размеры выборок\n",
    "iterations = 1000  # количество итераций для каждого размера выборки\n",
    "alpha = 0.05  # уровень значимости\n",
    "\n",
    "# Функция для оценки мощности критерия\n",
    "def test_power(test_func, dist_func, N, iterations, alpha):\n",
    "    rejection_count = 0\n",
    "    for _ in range(iterations):\n",
    "        sample = dist_func(size=N)\n",
    "        stat, p_value = test_func(sample)\n",
    "        if p_value < alpha:\n",
    "            rejection_count += 1\n",
    "    power = rejection_count / iterations\n",
    "    return power\n",
    "\n",
    "# Определение тестов\n",
    "def anderson_darling_test(sample):\n",
    "    result = anderson(sample)\n",
    "    return result.statistic, result.significance_level[2] / 100  # p-value из таблицы для уровня значимости 5%\n",
    "\n",
    "def lilliefors_test(sample):\n",
    "    stat, p_value = lilliefors(sample, dist='norm')\n",
    "    return stat, p_value\n",
    "\n",
    "def kolmogorov_smirnov_test(sample):\n",
    "    stat, p_value = kstest(sample, 'norm', args=(np.mean(sample), np.std(sample, ddof=1)))\n",
    "    return stat, p_value\n",
    "\n",
    "def shapiro_wilk_test(sample):\n",
    "    stat, p_value = shapiro(sample)\n",
    "    return stat, p_value"
   ]
  },
  {
   "cell_type": "code",
   "execution_count": 26,
   "id": "10cc713a-968c-4fbd-b487-f908c34d130b",
   "metadata": {},
   "outputs": [],
   "source": [
    "# Тестируемые распределения\n",
    "normal_dist = lambda size: np.random.normal(loc=0, scale=1, size=size)  # нормальное распределение\n",
    "non_normal_dist = lambda size: np.random.exponential(scale=1, size=size)  # экспоненциальное распределение как пример отличного от нормального\n",
    "\n",
    "# Сравнение мощностей\n",
    "results = {test: [] for test in ['Anderson-Darling', 'Lilliefors', 'Kolmogorov-Smirnov', 'Shapiro-Wilk']}\n",
    "\n",
    "for N in N_values:\n",
    "    power_anderson = test_power(anderson_darling_test, non_normal_dist, N, iterations, alpha)\n",
    "    power_lilliefors = test_power(lilliefors_test, non_normal_dist, N, iterations, alpha)\n",
    "    power_kolmogorov = test_power(kolmogorov_smirnov_test, non_normal_dist, N, iterations, alpha)\n",
    "    power_shapiro = test_power(shapiro_wilk_test, non_normal_dist, N, iterations, alpha)\n",
    "\n",
    "    results['Anderson-Darling'].append(power_anderson)\n",
    "    results['Lilliefors'].append(power_lilliefors)\n",
    "    results['Kolmogorov-Smirnov'].append(power_kolmogorov)\n",
    "    results['Shapiro-Wilk'].append(power_shapiro)"
   ]
  },
  {
   "cell_type": "code",
   "execution_count": 27,
   "id": "68082e36-9d90-43e0-ba3b-51ef456b73a4",
   "metadata": {},
   "outputs": [
    {
     "data": {
      "image/png": "[encoded data removed]",
      "text/plain": [
       "<Figure size 1200x800 with 1 Axes>"
      ]
     },
     "metadata": {},
     "output_type": "display_data"
    }
   ],
   "source": [
    "plt.figure(figsize=(12, 8))\n",
    "for test_name, powers in results.items():\n",
    "    plt.plot(N_values, powers, label=test_name)\n",
    "\n",
    "plt.xlabel('Размер выборки (N)')\n",
    "plt.ylabel('Мощность теста')\n",
    "plt.title('Сравнение мощности тестов нормальности')\n",
    "plt.legend()\n",
    "plt.grid(True)\n",
    "plt.show()"
   ]
  }
 ],
 "metadata": {
  "kernelspec": {
   "display_name": "Python 3 (ipykernel)",
   "language": "python",
   "name": "python3"
  },
  "language_info": {
   "codemirror_mode": {
    "name": "ipython",
    "version": 3
   },
   "file_extension": ".py",
   "mimetype": "text/x-python",
   "name": "python",
   "nbconvert_exporter": "python",
   "pygments_lexer": "ipython3",
   "version": "3.12.3"
  }
 },
 "nbformat": 4,
 "nbformat_minor": 5
}
