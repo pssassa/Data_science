{
 "cells": [
  {
   "cell_type": "code",
   "execution_count": 1,
   "id": "7bddcc1a",
   "metadata": {},
   "outputs": [],
   "source": [
    "import numpy as np\n",
    "import matplotlib.pyplot as plt\n",
    "import seaborn as sns\n",
    "from scipy import stats"
   ]
  },
  {
   "cell_type": "markdown",
   "id": "ff8b5f8d",
   "metadata": {},
   "source": [
    "## Задание 1"
   ]
  },
  {
   "cell_type": "markdown",
   "id": "45d8babb",
   "metadata": {},
   "source": [
    "1. Сгенерируйте 3 пары выборок заданного объема из разных законов распределения (два нормальных распределения, нормальное и отличное от нормального, два отличных от нормального распределения). Объем и законы распределения выбрать самостоятельно."
   ]
  },
  {
   "cell_type": "code",
   "execution_count": 9,
   "id": "7999bd45",
   "metadata": {},
   "outputs": [],
   "source": [
    "sample_size = 100\n",
    "alpha = 0.05\n",
    "\n",
    "# Генерируем выборки\n",
    "sample_1 = np.random.normal(10, 2, size=sample_size)\n",
    "sample_2 = np.random.normal(15, 2, size=sample_size)"
   ]
  },
  {
   "cell_type": "markdown",
   "id": "3985a5b5",
   "metadata": {},
   "source": [
    "2. Выдвинуть и проверить на заданном уровне значимости 𝛼 для каждой пары выборок гипотезы:\n",
    "- о равенстве двух дисперсий 𝐻: $𝜎_1 = 𝜎_2$\n",
    "- о равенстве двух выборочных средних 𝐻: $𝑚_1 = 𝑚_2$\n",
    "\n",
    "Выбор критериев должен быть обусловлен видом распределения исходных выборок (проверить факт нормальности распределения выборок с \n",
    "помощью одного из критериев согласия, например Шапиро-Уилка) и равенством дисперсий (для выбора критерия для проверки гипотез о математических ожиданиях)."
   ]
  },
  {
   "cell_type": "code",
   "execution_count": 14,
   "id": "bf1349ea",
   "metadata": {},
   "outputs": [],
   "source": [
    "def check_norm_distribution(sample):\n",
    "    _, p_value = stats.shapiro(sample)\n",
    "    if p_value > alpha:\n",
    "        print(f'Гипотеза о нормальности принимается')\n",
    "    else:\n",
    "        print(f'Гипотеза о нормальности отклоняется')\n",
    "        \n",
    "def F_test(s1, s2):\n",
    "    # Проверка равенства дисперсий по F-критерию        \n",
    "    var_1 = np.var(s1, ddof=1)\n",
    "    var_2 = np.var(s2, ddof=1)\n",
    "\n",
    "    print(f'Оценка дисперсии 1: {var_1:.4f}')\n",
    "    print(f'Оценка дисперсии 2: {var_2:.4f}')\n",
    "\n",
    "    if var_1 > var_2:\n",
    "        F_score = var_1 / var_2\n",
    "    else:\n",
    "        F_score = var_2 / var_1\n",
    "    print(f'Значение статистики: {F_score:.4f}')\n",
    "\n",
    "    pvalue = 1 - stats.f.cdf(F_score, sample_size - 1, sample_size - 1)\n",
    "    print(f'Значение p-value: {pvalue:.4f}')\n",
    "\n",
    "    if pvalue > alpha:\n",
    "        print(f'Гипотеза о равенстве дисперсий по F-критерию принимается')\n",
    "    else:\n",
    "        print(f'Гипотеза о равенстве дисперсий по F-критерию отклоняется')\n",
    "        \n",
    "def ttest_test(s1, s2, equal_var=True):\n",
    "    _, p_value_ttest = stats.ttest_ind(s1, s2, equal_var=equal_var)\n",
    "    print(f'Оценка выборочных средних: {p_value_ttest:.4f}')\n",
    "\n",
    "    if p_value_ttest > alpha:\n",
    "        print('Гипотеза о равенстве выборочных средних по t-критерию принимается')\n",
    "    else:\n",
    "        print('Гипотеза о равенстве выборочных средних по t-критерию отклоняется')\n",
    "    print(\"\\n\")\n",
    "\n",
    "def mannwhitheyu_test(s1, s2):\n",
    "    _, p_value_mannwhitney = stats.mannwhitneyu(s1, s2)\n",
    "    print(f'Оценка выборочных средних: {p_value_mannwhitney:.4f}')\n",
    "    \n",
    "    if p_value_mannwhitney > alpha:\n",
    "        print('Гипотеза о равенстве выборочных средних по критерию Манна-Уитни принимается')\n",
    "    else:\n",
    "        print('Гипотеза о равенстве выборочных средних по критерию Манна-Уитни отклоняется')\n",
    "    print(\"\\n\")\n",
    "    \n",
    "def fligner_test(s1, s2):\n",
    "    # Проверка равенства дисперсий по критерию Флигнера\n",
    "    _, p_value_fligner = stats.fligner(s1, s2)\n",
    "    if p_value_fligner > alpha:\n",
    "        print('Гипотеза о равенстве дисперсий по критерию Флигнера принимается')\n",
    "    else:\n",
    "        print('Гипотеза о равенстве дисперсий по критерию Флигнера отклоняется')"
   ]
  },
  {
   "cell_type": "code",
   "execution_count": 15,
   "id": "a7da869e",
   "metadata": {},
   "outputs": [
    {
     "name": "stdout",
     "output_type": "stream",
     "text": [
      "Гипотеза о нормальности принимается\n",
      "Гипотеза о нормальности принимается\n"
     ]
    }
   ],
   "source": [
    "check_norm_distribution(sample_1)\n",
    "check_norm_distribution(sample_2)"
   ]
  },
  {
   "cell_type": "code",
   "execution_count": 16,
   "id": "3f4a4d9e",
   "metadata": {},
   "outputs": [
    {
     "name": "stdout",
     "output_type": "stream",
     "text": [
      "Оценка дисперсии 1: 3.5993\n",
      "Оценка дисперсии 2: 4.3383\n",
      "Значение статистики: 1.2053\n",
      "Значение p-value: 0.1772\n",
      "Гипотеза о равенстве дисперсий по F-критерию принимается\n"
     ]
    }
   ],
   "source": [
    "F_test(sample_1, sample_2)"
   ]
  },
  {
   "cell_type": "code",
   "execution_count": 17,
   "id": "9c5bf7a1",
   "metadata": {},
   "outputs": [
    {
     "name": "stdout",
     "output_type": "stream",
     "text": [
      "Оценка выборочных средних: 0.0000\n",
      "Гипотеза о равенстве выборочных средних по t-критерию отклоняется\n",
      "\n",
      "\n"
     ]
    }
   ],
   "source": [
    "ttest_test(sample_1, sample_2, equal_var=True)"
   ]
  },
  {
   "cell_type": "markdown",
   "id": "ea1b538f",
   "metadata": {},
   "source": [
    "## Задание 2"
   ]
  },
  {
   "cell_type": "markdown",
   "id": "cb975fb1",
   "metadata": {},
   "source": [
    "1. 1000 раз сгенерируйте выборки из нормального и любого отличного от нормального закона распределения для различных N. \n",
    "2. Примените критерии: Anderson-Darling test, Lilliefors test, Kolmogorov-Smirnov test и Shapiro-Wilk test. \n",
    "3. Сравните их мощности."
   ]
  },
  {
   "cell_type": "markdown",
   "id": "3d497e77",
   "metadata": {},
   "source": [
    "Мощность критерия – это вероятность того, что нулевая гипотеза будет отвергнута, когда альтернативная гипотеза верна. Правило проверки для основной гипотезы у нас следующее: если значение **p_value** больше уровня значимости, то основная гипотеза принимается. Значит нам нужно считать случаи, когда **p_value < alpha**."
   ]
  },
  {
   "cell_type": "code",
   "execution_count": 7,
   "id": "ade58349",
   "metadata": {},
   "outputs": [],
   "source": [
    "def calculate_sw_power(n, alpha=0.05, iterations=1000, distribution=stats.norm, cretiorion=stats.shapiro,**dist_params):\n",
    "    power = 0\n",
    "    for _ in range(iterations):\n",
    "        # Генерируем выборку из заданного распределения\n",
    "        sample = distribution.rvs(size=n, **dist_params)\n",
    "        # Применяем критерий Шапиро-Уилка\n",
    "        _, p_value = cretiorion(sample)\n",
    "        if p_value < alpha:\n",
    "            power += 1\n",
    "    return power / iterations"
   ]
  },
  {
   "cell_type": "code",
   "execution_count": 8,
   "id": "838166ec",
   "metadata": {},
   "outputs": [
    {
     "name": "stdout",
     "output_type": "stream",
     "text": [
      "n = 10:  0.452\n",
      "n = 50:  0.999\n",
      "n = 100:  1.0\n",
      "n = 1000:  1.0\n"
     ]
    }
   ],
   "source": [
    "print(\"n = 10: \", calculate_sw_power(n=10, distribution=stats.expon))\n",
    "print(\"n = 50: \", calculate_sw_power(n=50, distribution=stats.expon))\n",
    "print(\"n = 100: \", calculate_sw_power(n=100, distribution=stats.expon))\n",
    "print(\"n = 1000: \", calculate_sw_power(n=1000, distribution=stats.expon))"
   ]
  }
 ],
 "metadata": {
  "kernelspec": {
   "display_name": "Python (GPU)",
   "language": "python",
   "name": "gpu_v2"
  },
  "language_info": {
   "codemirror_mode": {
    "name": "ipython",
    "version": 3
   },
   "file_extension": ".py",
   "mimetype": "text/x-python",
   "name": "python",
   "nbconvert_exporter": "python",
   "pygments_lexer": "ipython3",
   "version": "3.9.16"
  }
 },
 "nbformat": 4,
 "nbformat_minor": 5
}
